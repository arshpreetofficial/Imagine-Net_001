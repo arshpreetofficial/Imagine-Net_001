{
 "cells": [
  {
   "cell_type": "markdown",
   "id": "0a68992b",
   "metadata": {},
   "source": [
    "# Visualization of Results\n",
    "Plot ROC curve and overlay synthesized PET."
   ]
  },
  {
   "cell_type": "code",
   "execution_count": null,
   "id": "d80bf881",
   "metadata": {},
   "outputs": [],
   "source": [
    "import matplotlib.pyplot as plt\n",
    "import pandas as pd\n",
    "\n",
    "roc = pd.read_csv('results/curves/roc_curve_adni.csv')\n",
    "plt.plot(roc['fpr'], roc['tpr'])\n",
    "plt.xlabel('False Positive Rate')\n",
    "plt.ylabel('True Positive Rate')\n",
    "plt.title('ROC Curve - ADNI')\n",
    "plt.grid()\n",
    "plt.show()"
   ]
  }
 ],
 "metadata": {},
 "nbformat": 4,
 "nbformat_minor": 5
}
