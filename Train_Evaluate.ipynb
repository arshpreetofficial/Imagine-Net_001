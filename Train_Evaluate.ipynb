{
 "cells": [
  {
   "cell_type": "markdown",
   "id": "da86caf0",
   "metadata": {},
   "source": [
    "# Training and Evaluation\n",
    "Train the IMAGINENet model and evaluate AUC on test data."
   ]
  },
  {
   "cell_type": "code",
   "execution_count": null,
   "id": "67ebdd0c",
   "metadata": {},
   "outputs": [],
   "source": [
    "from code.train_joint import train_joint\n",
    "from code.evaluate import evaluate\n",
    "\n",
    "# Assume DataLoader objects exist as train_loader and test_loader\n",
    "train_joint(train_loader)\n",
    "evaluate(model, test_loader)"
   ]
  }
 ],
 "metadata": {},
 "nbformat": 4,
 "nbformat_minor": 5
}
