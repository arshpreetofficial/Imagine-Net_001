{
 "cells": [
  {
   "cell_type": "markdown",
   "id": "06a14aef",
   "metadata": {},
   "source": [
    "# Ablation Study\n",
    "Compare model variants to evaluate contributions."
   ]
  },
  {
   "cell_type": "code",
   "execution_count": null,
   "id": "57a1cfb0",
   "metadata": {},
   "outputs": [],
   "source": [
    "import pandas as pd\n",
    "import matplotlib.pyplot as plt\n",
    "\n",
    "df = pd.read_csv('results/ablation_results.csv')\n",
    "df.plot(x='Configuration', y=['AUC', 'Accuracy'], kind='bar', figsize=(10, 5))\n",
    "plt.title('Ablation Study')\n",
    "plt.ylabel('Score')\n",
    "plt.grid()\n",
    "plt.show()"
   ]
  }
 ],
 "metadata": {},
 "nbformat": 4,
 "nbformat_minor": 5
}
