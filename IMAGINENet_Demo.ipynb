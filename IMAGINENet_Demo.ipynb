{
 "cells": [
  {
   "cell_type": "markdown",
   "id": "7fc95ee9",
   "metadata": {},
   "source": [
    "# IMAGINENet Demo\n",
    "This notebook demonstrates how to use the IMAGINENet model for PET synthesis and classification from MRI scans."
   ]
  },
  {
   "cell_type": "code",
   "execution_count": null,
   "id": "4cea6922",
   "metadata": {},
   "outputs": [],
   "source": [
    "import nibabel as nib\n",
    "import matplotlib.pyplot as plt\n",
    "import torch\n",
    "from model import IMAGINENet\n",
    "\n",
    "# Load sample MRI\n",
    "img = nib.load('data/sample_mri.nii.gz')\n",
    "data = img.get_fdata()\n",
    "plt.imshow(data[50], cmap='gray')\n",
    "plt.title('MRI Slice 50')\n",
    "plt.show()"
   ]
  },
  {
   "cell_type": "code",
   "execution_count": null,
   "id": "a15be03c",
   "metadata": {},
   "outputs": [],
   "source": [
    "model = IMAGINENet()\n",
    "model.load_state_dict(torch.load('models/imagine_net.pt'))\n",
    "model.eval()\n",
    "\n",
    "input_tensor = torch.tensor(data).unsqueeze(0).unsqueeze(0).float()\n",
    "output = model(input_tensor)\n",
    "print('Predicted probability:', output.item())"
   ]
  }
 ],
 "metadata": {},
 "nbformat": 4,
 "nbformat_minor": 5
}
