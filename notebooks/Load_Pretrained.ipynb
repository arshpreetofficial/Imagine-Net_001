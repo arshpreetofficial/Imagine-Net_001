{
 "cells": [
  {
   "cell_type": "markdown",
   "id": "0c4340d6",
   "metadata": {},
   "source": [
    "# Load Pretrained IMAGINENet\n",
    "This notebook shows how to load and use the pretrained model."
   ]
  },
  {
   "cell_type": "code",
   "execution_count": null,
   "id": "d363ceb8",
   "metadata": {},
   "outputs": [],
   "source": [
    "import torch\n",
    "from model import IMAGINENet\n",
    "\n",
    "model = IMAGINENet()\n",
    "model.load_state_dict(torch.load('models/imagine_net.pt'))\n",
    "model.eval()\n",
    "\n",
    "# Perform inference on input_tensor\n",
    "output = model(input_tensor)\n",
    "print('Predicted probability:', output.item())"
   ]
  }
 ],
 "metadata": {},
 "nbformat": 4,
 "nbformat_minor": 5
}
